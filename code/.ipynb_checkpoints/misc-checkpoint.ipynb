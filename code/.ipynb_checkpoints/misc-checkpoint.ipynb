{
 "cells": [
  {
   "cell_type": "code",
   "execution_count": 8,
   "metadata": {},
   "outputs": [],
   "source": [
    "import pyarabic.araby as araby\n",
    "import pyarabic.number as number"
   ]
  },
  {
   "cell_type": "code",
   "execution_count": 10,
   "metadata": {},
   "outputs": [],
   "source": [
    "# arabic letters range\n",
    "begin = int(\"0600\", 16)\n",
    "end = int(\"06FF\", 16)"
   ]
  },
  {
   "cell_type": "code",
   "execution_count": 17,
   "metadata": {},
   "outputs": [],
   "source": [
    "test =\"\"\" ١٢٦  \n",
    " فميا دعج  ) من مرآها . لكنها لم تكن تلتفت إلى ماوراء ذلك من  \n",
    " تقلت المعانى وتعدد الشخوص  \n",
    " فإنهما لز يوم رائق صاف بميل الأصيل وهمام يتأمل وجهها  \n",
    " الذى تسدل الأشعة والظلال من معانيه كل لحظة ، وتبدل العو اطف  \n",
    " والخلجات من ملامحه كل فترة ، إذا به يهتف نجاة بكات لا مقدمة  \n",
    " لها ولا سارقة لتفسيرها .  \n",
    " كلك  من وجوه باسارة.!  \n",
    " فانتفضت فى ذراعه ، وحسبت أبها مقسمة لاتهام وملاحاة ،  \n",
    " وهما يستمرآن نه ذلك اليوم الرائق الصاف ابلجيل ، وقالت :  \n",
    " ماذا تمن؟  \n",
    " قال : هت ى من روعك . إما ثناء أردت لاملامة، وأخذ  \n",
    " يشرح لها ما يعنه كأنه حدثها عن امرأة غائية أو عن شخص من  \n",
    " شخو ص الروانات ، وه تصغى إليه مسبوتة ، م مسبر بحة ، ممبتسمه  \n",
    " م طروبا متهالة ، وهو يرى فيا يري مصداق ما يلاحظه عليا  \n",
    " وتحدثها عنه ، حتى كار ختام الحديت اقتراب الشفاه داهة  \n",
    " وطواعية.. منكتة من نـكاتها التى لا تخذلها في أمثال هذه المواقي ...  \n",
    " ألقتها إليه وه تنناءى عنه مرحة ضاحي  \n",
    " امد ربك . عندك من سارة المظلومة حربم كامل ، فلا تشكر  \n",
    " تفسك كثيرا عل الوفاء !  \n",
    "\n",
    "\n",
    "\n",
    "\"\"\""
   ]
  },
  {
   "cell_type": "code",
   "execution_count": 3,
   "metadata": {},
   "outputs": [
    {
     "data": {
      "text/plain": [
       "'\\n'"
      ]
     },
     "execution_count": 3,
     "metadata": {},
     "output_type": "execute_result"
    }
   ],
   "source": [
    "test[0]"
   ]
  },
  {
   "cell_type": "code",
   "execution_count": 4,
   "metadata": {},
   "outputs": [],
   "source": [
    "test2 = \"\"\"\n",
    " كيفف رزيا ?  \n",
    " رتيب الحوادث أن تنبى م نـكر راجعين للسؤال عن بدايتها  \n",
    " وسبيل التوارخ أن تنطوى السير وتنصرم الدول م نتقصى  \n",
    " ستاشمها وأسباب فلوورما  \n",
    " فتحن لانخدء  ف يرق الزمان حين أمرف الساعة كف  \n",
    " تلاقت سارة وشمام ، بعد أن عرفتا منذ رهة كف كانت القطعة  \n",
    " وكيف كان اللقاء الأخير  \n",
    " لم يقصد همام أن يلتق بسارة ولم تقصد سارة أن تكت بهمام...  \n",
    " وإما جاء اللقاء ا تيء مع  ظ الحوادث الكببى في معظ التواريخ  \n",
    " والسير : من زواج وفراق ورحلة واختيار مساع واقتحام غيوب ،  \n",
    " مصادفة لا يسقها عمد، وعرضا لا مهده له تتفكير  \n",
    " ع ام \"ى ف الجلاء جرة مري  تهر ان الكر يف التى  \n",
    " تدج فيها الشمس فى هدوء، ويرقص فيها الهواء فى حزين ، ويرق فيها  \n",
    " الجو ف تشوف وارتقاب ، وتطرح فيها النفس أعباءها كا تطرح  \n",
    " القافلة أحاها عند مشارفة الواحة المبشرة بالماء الفزر والظل  \n",
    " الظلل : ررثيا تهض بالعبه من جديد  \n",
    "\n",
    "\n",
    "\"\"\""
   ]
  },
  {
   "cell_type": "code",
   "execution_count": 6,
   "metadata": {},
   "outputs": [
    {
     "data": {
      "text/plain": [
       "'\\n'"
      ]
     },
     "execution_count": 6,
     "metadata": {},
     "output_type": "execute_result"
    }
   ],
   "source": [
    "test2[0]"
   ]
  },
  {
   "cell_type": "code",
   "execution_count": 7,
   "metadata": {},
   "outputs": [],
   "source": [
    "#function to encode text\n",
    "def encode(line):\n",
    "    new_l = []\n",
    "    line = araby.strip_shadda(araby.strip_harakat(line)).replace(\"آ\", \"ا\").replace(\"إ\", \"ا\").replace(\"أ\", \"ا\")\n",
    "    new_line = \"\"\n",
    "    for letter in line:\n",
    "        if (ord(letter) < begin or ord(letter) > end) and (letter!=' '):\n",
    "            continue\n",
    "        new_line = new_line + letter\n",
    "    line = new_line\n",
    "    \n",
    "    for w in line.split():\n",
    "        i = 0\n",
    "       \tfor c in w:\n",
    "            if len(w)==1:\n",
    "                new_l.append(c)\n",
    "            elif i == len(w) - 1:\n",
    "                new_l.append(\"#\" + c)\n",
    "            elif i == 0:\n",
    "                new_l.append(c + \"#\")\n",
    "            else:\n",
    "                new_l.append(\"#\" + c + \"#\")\n",
    "            i += 1\n",
    "    return \"<s> \" + \" \".join(new_l) + \" </s>\""
   ]
  },
  {
   "cell_type": "code",
   "execution_count": 19,
   "metadata": {},
   "outputs": [],
   "source": [
    "badboy = \"\\n\".join([encode(t) for t in test2.split(\"\\n\")])"
   ]
  },
  {
   "cell_type": "code",
   "execution_count": 20,
   "metadata": {},
   "outputs": [],
   "source": [
    "bad = open(\"bad.txt\", \"w\")\n",
    "bad.write(badboy)\n",
    "bad.close()"
   ]
  },
  {
   "cell_type": "code",
   "execution_count": 21,
   "metadata": {},
   "outputs": [],
   "source": [
    "import os"
   ]
  },
  {
   "cell_type": "code",
   "execution_count": 22,
   "metadata": {},
   "outputs": [],
   "source": [
    "os.chdir(\"..\")"
   ]
  },
  {
   "cell_type": "code",
   "execution_count": 24,
   "metadata": {},
   "outputs": [],
   "source": [
    "encoded_text = \"\"\n",
    "original_file = open(\"data/columbia_aco000270/columbia_aco000270_raw_ocr/ocr_space_output_126.txt\", \"r\")\n",
    "for line in original_file:\n",
    "    encoded_text = encoded_text + encode(line) + \"\\n\""
   ]
  },
  {
   "cell_type": "code",
   "execution_count": 25,
   "metadata": {},
   "outputs": [
    {
     "data": {
      "text/plain": [
       "'<s> ١# #٢# #٦ </s>\\n<s> ف# #م# #ي# #ا د# #ع# #ج م# #ن م# #ر# #ا# #ه# #ا ل# #ك# #ن# #ه# #ا ل# #م ت# #ك# #ن ت# #ل# #ت# #ف# #ت ا# #ل# #ى م# #ا# #و# #ر# #ا# #ء ذ# #ل# #ك م# #ن </s>\\n<s> ت# #ق# #ل# #ت ا# #ل# #م# #ع# #ا# #ن# #ى و# #ت# #ع# #د# #د ا# #ل# #ش# #خ# #و# #ص </s>\\n<s> ف# #ا# #ن# #ه# #م# #ا ل# #ز ي# #و# #م ر# #ا# #ئ# #ق ص# #ا# #ف ب# #م# #ي# #ل ا# #ل# #ا# #ص# #ي# #ل و# #ه# #م# #ا# #م ي# #ت# #ا# #م# #ل و# #ج# #ه# #ه# #ا </s>\\n<s> ا# #ل# #ذ# #ى ت# #س# #د# #ل ا# #ل# #ا# #ش# #ع# #ة و# #ا# #ل# #ظ# #ل# #ا# #ل م# #ن م# #ع# #ا# #ن# #ي# #ه ك# #ل ل# #ح# #ظ# #ة ، و# #ت# #ب# #د# #ل ا# #ل# #ع# #و ا# #ط# #ف </s>\\n<s> و# #ا# #ل# #خ# #ل# #ج# #ا# #ت م# #ن م# #ل# #ا# #م# #ح# #ه ك# #ل ف# #ت# #ر# #ة ، ا# #ذ# #ا ب# #ه ي# #ه# #ت# #ف ن# #ج# #ا# #ة ب# #ك# #ا# #ت ل# #ا م# #ق# #د# #م# #ة </s>\\n<s> ل# #ه# #ا و# #ل# #ا س# #ا# #ر# #ق# #ة ل# #ت# #ف# #س# #ي# #ر# #ه# #ا </s>\\n<s> ك# #ل# #ك م# #ن و# #ج# #و# #ه ب# #ا# #س# #ا# #ر# #ة </s>\\n<s> ف# #ا# #ن# #ت# #ف# #ض# #ت ف# #ى ذ# #ر# #ا# #ع# #ه ، و# #ح# #س# #ب# #ت ا# #ب# #ه# #ا م# #ق# #س# #م# #ة ل# #ا# #ت# #ه# #ا# #م و# #م# #ل# #ا# #ح# #ا# #ة ، </s>\\n<s> و# #ه# #م# #ا ي# #س# #ت# #م# #ر# #ا# #ن ن# #ه ذ# #ل# #ك ا# #ل# #ي# #و# #م ا# #ل# #ر# #ا# #ئ# #ق ا# #ل# #ص# #ا# #ف ا# #ب# #ل# #ج# #ي# #ل ، و# #ق# #ا# #ل# #ت </s>\\n<s> م# #ا# #ذ# #ا ت# #م# #ن# #؟ </s>\\n<s> ق# #ا# #ل ه# #ت ى م# #ن ر# #و# #ع# #ك ا# #م# #ا ث# #ن# #ا# #ء ا# #ر# #د# #ت ل# #ا# #م# #ل# #ا# #م# #ة# #، و# #ا# #خ# #ذ </s>\\n<s> ي# #ش# #ر# #ح ل# #ه# #ا م# #ا ي# #ع# #ن# #ه ك# #ا# #ن# #ه ح# #د# #ث# #ه# #ا ع# #ن ا# #م# #ر# #ا# #ة غ# #ا# #ئ# #ي# #ة ا# #و ع# #ن ش# #خ# #ص م# #ن </s>\\n<s> ش# #خ# #و ص ا# #ل# #ر# #و# #ا# #ن# #ا# #ت ، و# #ه ت# #ص# #غ# #ى ا# #ل# #ي# #ه م# #س# #ب# #و# #ت# #ة ، م م# #س# #ب# #ر ب# #ح# #ة ، م# #م# #ب# #ت# #س# #م# #ه </s>\\n<s> م ط# #ر# #و# #ب# #ا م# #ت# #ه# #ا# #ل# #ة ، و# #ه# #و ي# #ر# #ى ف# #ي# #ا ي# #ر# #ي م# #ص# #د# #ا# #ق م# #ا ي# #ل# #ا# #ح# #ظ# #ه ع# #ل# #ي# #ا </s>\\n<s> و# #ت# #ح# #د# #ث# #ه# #ا ع# #ن# #ه ، ح# #ت# #ى ك# #ا# #ر خ# #ت# #ا# #م ا# #ل# #ح# #د# #ي# #ت ا# #ق# #ت# #ر# #ا# #ب ا# #ل# #ش# #ف# #ا# #ه د# #ا# #ه# #ة </s>\\n<s> و# #ط# #و# #ا# #ع# #ي# #ة م# #ن# #ك# #ت# #ة م# #ن ن# #ـ# #ك# #ا# #ت# #ه# #ا ا# #ل# #ت# #ى ل# #ا ت# #خ# #ذ# #ل# #ه# #ا ف# #ي ا# #م# #ث# #ا# #ل ه# #ذ# #ه ا# #ل# #م# #و# #ا# #ق# #ي </s>\\n<s> ا# #ل# #ق# #ت# #ه# #ا ا# #ل# #ي# #ه و# #ه ت# #ن# #ن# #ا# #ء# #ى ع# #ن# #ه م# #ر# #ح# #ة ض# #ا# #ح# #ي </s>\\n<s> ا# #م# #د ر# #ب# #ك ع# #ن# #د# #ك م# #ن س# #ا# #ر# #ة ا# #ل# #م# #ظ# #ل# #و# #م# #ة ح# #ر# #ب# #م ك# #ا# #م# #ل ، ف# #ل# #ا ت# #ش# #ك# #ر </s>\\n<s> ت# #ف# #س# #ك ك# #ث# #ي# #ر# #ا ع# #ل ا# #ل# #و# #ف# #ا# #ء </s>\\n'"
      ]
     },
     "execution_count": 25,
     "metadata": {},
     "output_type": "execute_result"
    }
   ],
   "source": [
    "encoded_text"
   ]
  },
  {
   "cell_type": "code",
   "execution_count": 30,
   "metadata": {},
   "outputs": [],
   "source": [
    "encoded_file = open(\"ocr_space_output_encoded_\" + \".txt\",\"w\")\n",
    "encoded_file.write(encoded_text)\n",
    "original_file.close()\n",
    "encoded_file.close()"
   ]
  },
  {
   "cell_type": "markdown",
   "metadata": {},
   "source": [
    "## Try except predicted encoded to predicted"
   ]
  },
  {
   "cell_type": "code",
   "execution_count": 31,
   "metadata": {},
   "outputs": [
    {
     "data": {
      "text/plain": [
       "'/Users/anasjawed/Documents/arafix_ocr'"
      ]
     },
     "execution_count": 31,
     "metadata": {},
     "output_type": "execute_result"
    }
   ],
   "source": [
    "os.getcwd()"
   ]
  },
  {
   "cell_type": "code",
   "execution_count": 38,
   "metadata": {},
   "outputs": [
    {
     "data": {
      "text/plain": [
       "['columbia_aco000270',\n",
       " 'cornell_aco000143',\n",
       " 'aub_aco003198',\n",
       " 'aub_aco002793',\n",
       " 'columbia_aco000484',\n",
       " 'aub_aco003204',\n",
       " 'auc_aco000838',\n",
       " 'cornell_aco000177',\n",
       " 'princeton_aco001005_hi',\n",
       " 'nyu_aco000553',\n",
       " 'columbia_aco000325',\n",
       " 'aub_aco001255']"
      ]
     },
     "execution_count": 38,
     "metadata": {},
     "output_type": "execute_result"
    }
   ],
   "source": [
    "books = [f for f in os.listdir(\"data/\") if \"sample\" not in f and \"DS_Store\" not in f]\n",
    "books"
   ]
  },
  {
   "cell_type": "code",
   "execution_count": 41,
   "metadata": {},
   "outputs": [],
   "source": [
    "encoded_suffix = \"_post_edited_encoded\"\n",
    "decoded_suffix = \"_post_edited\""
   ]
  },
  {
   "cell_type": "code",
   "execution_count": 44,
   "metadata": {},
   "outputs": [
    {
     "name": "stdout",
     "output_type": "stream",
     "text": [
      "['columbia_aco000270_model_m1_map_segmenter', 'columbia_aco000270_model_openiti_70m_map_segmenter', 'columbia_aco000270_model_msa_70m_map_pure_emp_pg25_top30', 'columbia_aco000270_model_openiti_70m_map_pure_emp_pg25_top30', 'columbia_aco000270_model_msa_70m_map_emp_space_pg_25_top_15', 'columbia_aco000270_model_msa_70m_map_segmenter', 'columbia_aco000270_model_openiti_70m_map_emp_space_pg_25_top_15', 'columbia_aco000270_model_m1_map_emp_space_pg_25_top_15', 'columbia_aco000270_model_m1_map_pure_emp_pg25_top30']\n",
      "['predicted_encoded_151.txt', 'predicted_encoded_17.txt', 'predicted_encoded_145.txt', 'predicted_encoded_7.txt', 'predicted_encoded_179.txt', 'predicted_encoded_192.txt', 'predicted_encoded_186.txt', 'predicted_encoded_187.txt', 'predicted_encoded_193.txt', 'predicted_encoded_6.txt', 'predicted_encoded_178.txt', 'predicted_encoded_144.txt', 'predicted_encoded_150.txt', 'predicted_encoded_16.txt', 'predicted_encoded_146.txt', 'predicted_encoded_14.txt', 'predicted_encoded_152.txt', 'predicted_encoded_4.txt', 'predicted_encoded_28.txt', 'predicted_encoded_185.txt', 'predicted_encoded_191.txt', 'predicted_encoded_190.txt', 'predicted_encoded_184.txt', 'predicted_encoded_29.txt', 'predicted_encoded_5.txt', 'predicted_encoded_15.txt', 'predicted_encoded_153.txt', 'predicted_encoded_147.txt', 'predicted_encoded_1.txt', 'predicted_encoded_39.txt', 'predicted_encoded_143.txt', 'predicted_encoded_157.txt', 'predicted_encoded_11.txt', 'predicted_encoded_180.txt', 'predicted_encoded_194.txt', 'predicted_encoded_195.txt', 'predicted_encoded_181.txt', 'predicted_encoded_156.txt', 'predicted_encoded_10.txt', 'predicted_encoded_142.txt', 'predicted_encoded_38.txt', 'predicted_encoded_168.txt', 'predicted_encoded_2.txt', 'predicted_encoded_12.txt', 'predicted_encoded_154.txt', 'predicted_encoded_140.txt', 'predicted_encoded_183.txt', 'predicted_encoded_182.txt', 'predicted_encoded_196.txt', 'predicted_encoded_141.txt', 'predicted_encoded_13.txt', 'predicted_encoded_155.txt', 'predicted_encoded_3.txt', 'predicted_encoded_169.txt', 'predicted_encoded_74.txt', 'predicted_encoded_132.txt', 'predicted_encoded_126.txt', 'predicted_encoded_60.txt', 'predicted_encoded_48.txt', 'predicted_encoded_49.txt', 'predicted_encoded_127.txt', 'predicted_encoded_61.txt', 'predicted_encoded_75.txt', 'predicted_encoded_133.txt', 'predicted_encoded_63.txt', 'predicted_encoded_125.txt', 'predicted_encoded_131.txt', 'predicted_encoded_77.txt', 'predicted_encoded_119.txt', 'predicted_encoded_88.txt', 'predicted_encoded_89.txt', 'predicted_encoded_118.txt', 'predicted_encoded_130.txt', 'predicted_encoded_76.txt', 'predicted_encoded_62.txt', 'predicted_encoded_124.txt', 'predicted_encoded_108.txt', 'predicted_encoded_120.txt', 'predicted_encoded_66.txt', 'predicted_encoded_72.txt', 'predicted_encoded_134.txt', 'predicted_encoded_99.txt', 'predicted_encoded_98.txt', 'predicted_encoded_73.txt', 'predicted_encoded_135.txt', 'predicted_encoded_121.txt', 'predicted_encoded_67.txt', 'predicted_encoded_109.txt', 'predicted_encoded_59.txt', 'predicted_encoded_137.txt', 'predicted_encoded_71.txt', 'predicted_encoded_65.txt', 'predicted_encoded_123.txt', 'predicted_encoded_64.txt', 'predicted_encoded_122.txt', 'predicted_encoded_136.txt', 'predicted_encoded_70.txt', 'predicted_encoded_58.txt', 'predicted_encoded_55.txt', 'predicted_encoded_113.txt', 'predicted_encoded_107.txt', 'predicted_encoded_41.txt', 'predicted_encoded_69.txt', 'predicted_encoded_96.txt', 'predicted_encoded_82.txt', 'predicted_encoded_83.txt', 'predicted_encoded_97.txt', 'predicted_encoded_68.txt', 'predicted_encoded_106.txt', 'predicted_encoded_40.txt', 'predicted_encoded_54.txt', 'predicted_encoded_112.txt', 'predicted_encoded_42.txt', 'predicted_encoded_104.txt', 'predicted_encoded_110.txt', 'predicted_encoded_56.txt', 'predicted_encoded_138.txt', 'predicted_encoded_81.txt', 'predicted_encoded_95.txt', 'predicted_encoded_94.txt', 'predicted_encoded_80.txt', 'predicted_encoded_139.txt', 'predicted_encoded_111.txt', 'predicted_encoded_57.txt', 'predicted_encoded_43.txt', 'predicted_encoded_105.txt', 'predicted_encoded_129.txt', 'predicted_encoded_101.txt', 'predicted_encoded_47.txt', 'predicted_encoded_53.txt', 'predicted_encoded_115.txt', 'predicted_encoded_84.txt', 'predicted_encoded_90.txt', 'predicted_encoded_91.txt', 'predicted_encoded_85.txt', 'predicted_encoded_52.txt', 'predicted_encoded_114.txt', 'predicted_encoded_100.txt', 'predicted_encoded_46.txt', 'predicted_encoded_128.txt', 'predicted_encoded_78.txt', 'predicted_encoded_116.txt', 'predicted_encoded_50.txt', 'predicted_encoded_44.txt', 'predicted_encoded_102.txt', 'predicted_encoded_93.txt', 'predicted_encoded_87.txt', 'predicted_encoded_86.txt', 'predicted_encoded_92.txt', 'predicted_encoded_45.txt', 'predicted_encoded_103.txt', 'predicted_encoded_117.txt', 'predicted_encoded_51.txt', 'predicted_encoded_79.txt', 'predicted_encoded_170.txt', 'predicted_encoded_36.txt', 'predicted_encoded_22.txt', 'predicted_encoded_164.txt', 'predicted_encoded_158.txt', 'predicted_encoded_159.txt', 'predicted_encoded_23.txt', 'predicted_encoded_165.txt', 'predicted_encoded_171.txt', 'predicted_encoded_37.txt', 'predicted_encoded_167.txt', 'predicted_encoded_21.txt', 'predicted_encoded_35.txt', 'predicted_encoded_173.txt', 'predicted_encoded_34.txt', 'predicted_encoded_172.txt', 'predicted_encoded_166.txt', 'predicted_encoded_20.txt', 'predicted_encoded_18.txt', 'predicted_encoded_24.txt', 'predicted_encoded_162.txt', 'predicted_encoded_176.txt', 'predicted_encoded_8.txt', 'predicted_encoded_30.txt', 'predicted_encoded_189.txt', 'predicted_encoded_188.txt', 'predicted_encoded_177.txt', 'predicted_encoded_31.txt', 'predicted_encoded_9.txt', 'predicted_encoded_25.txt', 'predicted_encoded_163.txt', 'predicted_encoded_19.txt', 'predicted_encoded_149.txt', 'predicted_encoded_33.txt', 'predicted_encoded_175.txt', 'predicted_encoded_161.txt', 'predicted_encoded_27.txt', 'predicted_encoded_160.txt', 'predicted_encoded_26.txt', 'predicted_encoded_32.txt', 'predicted_encoded_174.txt', 'predicted_encoded_148.txt']\n"
     ]
    }
   ],
   "source": [
    "for b in books:\n",
    "    book_path = \"data/\" + b\n",
    "    book_encoded_path = book_path + \"/\" + b +  encoded_suffix + \"/\"\n",
    "    book_decoded_path = book_path + \"/\" + b + decoded_suffix + \"/\"\n",
    "    \n",
    "    mapping_folders = [f for f in os.listdir(book_encoded_path) if \"DS_Store\" not in f]\n",
    "    print(mapping_folders)\n",
    "    for mf in mapping_folders:\n",
    "        e_files = [f for f in os.listdir(book_encoded_path + mf) if \"DS_Store\" not in f]\n",
    "        print(e_files)\n",
    "        break\n",
    "    break\n",
    "   "
   ]
  },
  {
   "cell_type": "code",
   "execution_count": null,
   "metadata": {},
   "outputs": [],
   "source": [
    "os.listdir(\"data/co\")"
   ]
  }
 ],
 "metadata": {
  "kernelspec": {
   "display_name": "Python 3",
   "language": "python",
   "name": "python3"
  },
  "language_info": {
   "codemirror_mode": {
    "name": "ipython",
    "version": 3
   },
   "file_extension": ".py",
   "mimetype": "text/x-python",
   "name": "python",
   "nbconvert_exporter": "python",
   "pygments_lexer": "ipython3",
   "version": "3.8.5"
  }
 },
 "nbformat": 4,
 "nbformat_minor": 4
}
